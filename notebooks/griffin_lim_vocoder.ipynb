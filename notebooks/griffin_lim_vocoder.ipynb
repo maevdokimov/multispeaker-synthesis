{
 "cells": [
  {
   "cell_type": "code",
   "execution_count": null,
   "id": "e8d94565",
   "metadata": {},
   "outputs": [],
   "source": [
    "import logging\n",
    "from pathlib import Path\n",
    "\n",
    "import matplotlib.pyplot as plt\n",
    "import torchaudio\n",
    "import librosa\n",
    "import torch\n",
    "import numpy as np\n",
    "\n",
    "from IPython import display as display_\n",
    "\n",
    "\n",
    "def viz(wav, sr):\n",
    "    plt.figure(figsize=(20, 5))\n",
    "    plt.plot(wav)\n",
    "    plt.show()\n",
    "\n",
    "    display_.display(display_.Audio(wav, rate=sr, normalize=False))\n",
    "\n",
    "\n",
    "class GriffinLimVocoder:\n",
    "    def __init__(\n",
    "        self,\n",
    "        sr: int,\n",
    "        n_fft: int,\n",
    "        fmax: int,\n",
    "        n_mels: int = 80,\n",
    "        power: float = 1.2,\n",
    "        n_iters: int = 50,\n",
    "    ):\n",
    "        self.sr = sr\n",
    "        self.n_fft = n_fft\n",
    "        self.fmax = fmax\n",
    "        self.n_mels = n_mels\n",
    "        self.power = power\n",
    "        self.n_iters = n_iters\n",
    "        self.mag_scale = n_fft\n",
    "        \n",
    "        self.filterbank = librosa.filters.mel(sr=sr, n_fft=n_fft, n_mels=n_mels, fmax=fmax)\n",
    "        \n",
    "    def _griffin_lim(self, magnitudes):\n",
    "        \"\"\"Griffin-Lim algorithm to convert magnitude spectrograms to audio signals\n",
    "        \"\"\"\n",
    "        phase = np.exp(2j * np.pi * np.random.rand(*magnitudes.shape))\n",
    "        complex_spec = magnitudes * phase\n",
    "        signal = librosa.istft(complex_spec)\n",
    "        if not np.isfinite(signal).all():\n",
    "            logging.warning(\"audio was not finite\")\n",
    "            return np.array([0])\n",
    "\n",
    "        for _ in range(self.n_iters):\n",
    "            _, phase = librosa.magphase(librosa.stft(signal, n_fft=self.n_fft))\n",
    "            complex_spec = magnitudes * phase\n",
    "            signal = librosa.istft(complex_spec)\n",
    "        return signal\n",
    "        \n",
    "        \n",
    "    def apply_vocoder(self, log_mel_spec):\n",
    "        \"\"\"Applies griffin-lim vocoder\n",
    "        Args:\n",
    "            log_mel_spec (np.ndarray): (n_frames, n_mels)\n",
    "        \"\"\"\n",
    "        mel = np.exp(log_mel_spec)\n",
    "        magnitude = np.dot(mel, self.filterbank) * self.mag_scale\n",
    "        audio = self._griffin_lim(magnitude.T ** self.power)\n",
    "        \n",
    "        return audio\n"
   ]
  },
  {
   "cell_type": "code",
   "execution_count": null,
   "id": "c903f615",
   "metadata": {},
   "outputs": [],
   "source": [
    "ROOT_PATH = Path(\"...\")\n",
    "\n",
    "\n",
    "with open(ROOT_PATH / \"texts.txt\", \"r\") as file:\n",
    "    text_lines = list(map(lambda x: x.strip(), file.readlines()))\n",
    "\n",
    "spectrograms = {}\n",
    "for file_path in ROOT_PATH.iterdir():\n",
    "    if file_path.name == \"texts.txt\":\n",
    "        continue\n",
    "        \n",
    "    spec = torch.load(file_path)\n",
    "    spectrograms[file_path.stem] = spec"
   ]
  },
  {
   "cell_type": "code",
   "execution_count": null,
   "id": "39a36301",
   "metadata": {},
   "outputs": [],
   "source": [
    "vocoder = GriffinLimVocoder(sr=22050, n_fft=1024, fmax=8000)"
   ]
  },
  {
   "cell_type": "code",
   "execution_count": null,
   "id": "78ddb648",
   "metadata": {},
   "outputs": [],
   "source": [
    "spectrogram = \"spec_5_speaker_1\"\n",
    "\n",
    "spec = spectrograms[spectrogram].squeeze().transpose(0, 1).numpy()\n",
    "audio = vocoder.apply_vocoder(spec)\n",
    "viz(audio, 22050)"
   ]
  },
  {
   "cell_type": "code",
   "execution_count": null,
   "id": "d38d11b0",
   "metadata": {},
   "outputs": [],
   "source": []
  }
 ],
 "metadata": {
  "kernelspec": {
   "display_name": "Python 3 (ipykernel)",
   "language": "python",
   "name": "python3"
  },
  "language_info": {
   "codemirror_mode": {
    "name": "ipython",
    "version": 3
   },
   "file_extension": ".py",
   "mimetype": "text/x-python",
   "name": "python",
   "nbconvert_exporter": "python",
   "pygments_lexer": "ipython3",
   "version": "3.9.7"
  }
 },
 "nbformat": 4,
 "nbformat_minor": 5
}
